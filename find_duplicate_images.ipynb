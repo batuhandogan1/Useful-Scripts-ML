{
 "cells": [
  {
   "cell_type": "code",
   "execution_count": 2,
   "metadata": {},
   "outputs": [],
   "source": [
    "import cv2\n",
    "import os\n",
    "from PIL import Image, ImageStat"
   ]
  },
  {
   "cell_type": "code",
   "execution_count": 3,
   "metadata": {},
   "outputs": [],
   "source": [
    "image_folder = os.path.join(os.getcwd(), 'C:/Users/batuhan/Downloads/Compressed/COCO/COCO DARKNET DOWNLOADS/BUS_CAR_MOTORCYCLE_TRUCK/')\n",
    "image_files = [_ for _ in os.listdir(image_folder) if _.endswith('jpg')]"
   ]
  },
  {
   "cell_type": "code",
   "execution_count": null,
   "metadata": {},
   "outputs": [],
   "source": [
    "duplicate_files = []\n",
    "\n",
    "for i, file_org in enumerate(image_files):\n",
    "    print(str(i) + '/' + str(len(image_files)))\n",
    "    if not file_org in duplicate_files:\n",
    "        image_org = Image.open(os.path.join(image_folder, file_org))\n",
    "        pix_mean1 = ImageStat.Stat(image_org).mean\n",
    "\n",
    "        for file_check in image_files:\n",
    "            if file_check != file_org:\n",
    "                image_check = Image.open(os.path.join(image_folder, file_check))\n",
    "                pix_mean2 = ImageStat.Stat(image_check).mean\n",
    "\n",
    "                if pix_mean1 == pix_mean2:\n",
    "                    duplicate_files.append((file_org))\n",
    "                    duplicate_files.append((file_check))\n",
    "                    print(duplicate_files)\n",
    "\n",
    "print(list(dict.fromkeys(duplicate_files)))"
   ]
  }
 ],
 "metadata": {
  "kernelspec": {
   "display_name": "base",
   "language": "python",
   "name": "python3"
  },
  "language_info": {
   "codemirror_mode": {
    "name": "ipython",
    "version": 3
   },
   "file_extension": ".py",
   "mimetype": "text/x-python",
   "name": "python",
   "nbconvert_exporter": "python",
   "pygments_lexer": "ipython3",
   "version": "3.9.13"
  },
  "orig_nbformat": 4
 },
 "nbformat": 4,
 "nbformat_minor": 2
}
