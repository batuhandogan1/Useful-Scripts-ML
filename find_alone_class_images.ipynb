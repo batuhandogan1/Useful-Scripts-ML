{
 "cells": [
  {
   "cell_type": "code",
   "execution_count": 1,
   "metadata": {},
   "outputs": [],
   "source": [
    "import os"
   ]
  },
  {
   "cell_type": "code",
   "execution_count": 3,
   "metadata": {},
   "outputs": [],
   "source": [
    "path = '/home/bdogan/all_files/ssh_files/sum_dataset_unfiltered/'\n",
    "\n",
    "files = os.listdir(path)\n",
    "\n",
    "count = 0\n",
    "\n",
    "for file in files:\n",
    "    if file.endswith('.txt'):\n",
    "\n",
    "        reading_file = open(path + file, \"r\")\n",
    "        new_bool = False\n",
    "\n",
    "        for line in reading_file:\n",
    "            if (line[0] != '1'):\n",
    "                new_bool = True\n",
    "        \n",
    "        reading_file.close()\n",
    "\n",
    "        if (new_bool == False):\n",
    "            temp = []\n",
    "            temp = file.split('.txt')\n",
    "            os.remove(path + temp[0] + '.jpg')\n",
    "            os.remove(path + temp[0] + '.txt')"
   ]
  }
 ],
 "metadata": {
  "kernelspec": {
   "display_name": "opencv_gpu",
   "language": "python",
   "name": "python3"
  },
  "language_info": {
   "codemirror_mode": {
    "name": "ipython",
    "version": 3
   },
   "file_extension": ".py",
   "mimetype": "text/x-python",
   "name": "python",
   "nbconvert_exporter": "python",
   "pygments_lexer": "ipython3",
   "version": "3.9.0"
  },
  "orig_nbformat": 4
 },
 "nbformat": 4,
 "nbformat_minor": 2
}
