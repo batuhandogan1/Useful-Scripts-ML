{
 "cells": [
  {
   "cell_type": "code",
   "execution_count": 22,
   "metadata": {},
   "outputs": [],
   "source": [
    "# Dosya ismine rastgele isimler ver"
   ]
  },
  {
   "cell_type": "code",
   "execution_count": 1,
   "metadata": {},
   "outputs": [],
   "source": [
    "import uuid\n",
    "import os\n",
    "import shutil"
   ]
  },
  {
   "cell_type": "code",
   "execution_count": 2,
   "metadata": {},
   "outputs": [],
   "source": [
    "def give_random_name():\n",
    "\n",
    "    filename = str(uuid.uuid4())\n",
    "    arr = filename.split('-')\n",
    "    \n",
    "    return arr[0]"
   ]
  },
  {
   "cell_type": "code",
   "execution_count": 4,
   "metadata": {},
   "outputs": [],
   "source": [
    "# Dosya yolunu ver içinde ne varsa ismin rastgele değiştirecektir\n",
    "file_path = '/home/bdogan/Desktop/stage_3_chapter_1_dataset/'\n",
    "export_path = '/home/bdogan/Desktop/stage_3_chapter_1_named_dataset/'\n",
    "\n",
    "files = os.listdir(file_path)\n",
    "\n",
    "for file in files:\n",
    "    os.rename(file_path + file, export_path + give_random_name() + '.jpg') # Dosya uzantısı ne ise onu ekle"
   ]
  },
  {
   "cell_type": "code",
   "execution_count": 3,
   "metadata": {},
   "outputs": [],
   "source": [
    "# Hem fotoğraf hem etiketi değiştirir\n",
    "\n",
    "file_path = '/home/bdogan/all_files/ekin_files/vehicle_type_stage_6/stage_5+ibrahim_ssh+wetransfer/'\n",
    "export_path = '/home/bdogan/all_files/ekin_files/vehicle_type_stage_6/stage_6_dataset/'\n",
    "\n",
    "files = os.listdir(file_path)\n",
    "\n",
    "random_name = give_random_name()\n",
    "\n",
    "for file in files:\n",
    "    if file.endswith('.jpg'):\n",
    "        random_name = give_random_name()\n",
    "        arr = file.split('.jpg')\n",
    "        os.rename(file_path + file, export_path + random_name + '.jpg')\n",
    "        os.rename(file_path + arr[0] + '.txt', export_path + random_name + '.txt')"
   ]
  },
  {
   "cell_type": "code",
   "execution_count": 3,
   "metadata": {},
   "outputs": [],
   "source": [
    "# Dosyanın içindeki birden fazla dosyanın içindeki images ve labels klasörlerindeki dosyalara girer ismini değiştirim dst_path e atar\n",
    "\n",
    "\n",
    "src_path = '/home/bdogan/Desktop/usa_plate_set/'\n",
    "dst_path = '/home/bdogan/Desktop/sum_dataset/'\n",
    "\n",
    "files = os.listdir(src_path)\n",
    "\n",
    "for file in files:\n",
    "    images = os.listdir(src_path + file + '/' + 'images')\n",
    "\n",
    "    for image in images:\n",
    "        random_name = give_random_name()\n",
    "        temp = image.split('.jpg')\n",
    "        shutil.copy(src_path + file + '/' + 'images' + '/' + temp[0] + '.jpg', dst_path + random_name + '.jpg')\n",
    "        shutil.copy(src_path + file + '/' + 'labels' + '/' + temp[0] + '.txt', dst_path + random_name + '.txt')"
   ]
  },
  {
   "cell_type": "code",
   "execution_count": 3,
   "metadata": {},
   "outputs": [],
   "source": [
    "# Eğitim için test train txtsi oluşturma\n",
    "\n",
    "\n",
    "path = 'C:/Users/batuhan/Desktop/sum of two dataset/'\n",
    "\n",
    "files = os.listdir(path)\n",
    "\n",
    "for file in files:\n",
    "    if file.endswith('.jpg'):\n",
    "        with open('C:/Users/batuhan/Desktop/train.txt', 'a') as f:\n",
    "            f.write(f'/media/ekin/Yoda/batuhan/VehicleType/sum of two dataset/{file}')\n",
    "            f.write('\\n')"
   ]
  }
 ],
 "metadata": {
  "kernelspec": {
   "display_name": "base",
   "language": "python",
   "name": "python3"
  },
  "language_info": {
   "codemirror_mode": {
    "name": "ipython",
    "version": 3
   },
   "file_extension": ".py",
   "mimetype": "text/x-python",
   "name": "python",
   "nbconvert_exporter": "python",
   "pygments_lexer": "ipython3",
   "version": "3.9.0"
  },
  "orig_nbformat": 4
 },
 "nbformat": 4,
 "nbformat_minor": 2
}
