{
 "cells": [
  {
   "cell_type": "code",
   "execution_count": 1,
   "metadata": {},
   "outputs": [],
   "source": [
    "import os"
   ]
  },
  {
   "cell_type": "code",
   "execution_count": 15,
   "metadata": {},
   "outputs": [
    {
     "name": "stdout",
     "output_type": "stream",
     "text": [
      "sngrp_024826-0 dont have a image\n"
     ]
    }
   ],
   "source": [
    "src_path = '/home/bdogan/all_files/ekin_files/general_plate_character/'\n",
    "\n",
    "files = os.listdir(src_path)\n",
    "\n",
    "images_arr = []\n",
    "labels_arr = []\n",
    "\n",
    "separated = False\n",
    "\n",
    "if 'images' in files and 'labels' in files:\n",
    "\n",
    "    images = os.listdir(src_path + 'images')\n",
    "    labels = os.listdir(src_path + 'labels')\n",
    "\n",
    "    separated = True\n",
    "\n",
    "\n",
    "if separated == False:\n",
    "    for file in files:\n",
    "\n",
    "        if file.endswith('.jpg'):\n",
    "            splitted_file = file.split('.jpg')\n",
    "            images_arr.append(splitted_file[0])\n",
    "\n",
    "        elif file.endswith('.txt'):\n",
    "            splitted_file = file.split('.txt')\n",
    "            labels_arr.append(splitted_file[0])\n",
    "\n",
    "if separated == True:\n",
    "    for image in images:\n",
    "        if image.endswith('.jpg'):\n",
    "            splitted_file = image.split('.jpg')\n",
    "            images_arr.append(splitted_file[0])\n",
    "\n",
    "    for label in labels:\n",
    "        if label.endswith('.txt'):\n",
    "            splitted_file = label.split('.txt')\n",
    "            labels_arr.append(splitted_file[0])\n",
    "\n",
    "images_arr.sort()\n",
    "labels_arr.sort()\n",
    "\n",
    "for image in images_arr:\n",
    "\n",
    "    if image not in labels_arr:\n",
    "        print(f'{image} dont have a label')\n",
    "\n",
    "for label in labels_arr:\n",
    "\n",
    "    if label not in images_arr:\n",
    "        print(f'{image} dont have a image')"
   ]
  }
 ],
 "metadata": {
  "kernelspec": {
   "display_name": "yolov7",
   "language": "python",
   "name": "python3"
  },
  "language_info": {
   "codemirror_mode": {
    "name": "ipython",
    "version": 3
   },
   "file_extension": ".py",
   "mimetype": "text/x-python",
   "name": "python",
   "nbconvert_exporter": "python",
   "pygments_lexer": "ipython3",
   "version": "3.9.0"
  }
 },
 "nbformat": 4,
 "nbformat_minor": 2
}
