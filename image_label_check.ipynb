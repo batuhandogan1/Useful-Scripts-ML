{
 "cells": [
  {
   "cell_type": "code",
   "execution_count": null,
   "metadata": {},
   "outputs": [],
   "source": [
    "import os"
   ]
  },
  {
   "cell_type": "code",
   "execution_count": null,
   "metadata": {},
   "outputs": [],
   "source": [
    "src_path = ''\n",
    "\n",
    "files = os.listdir(src_path)\n",
    "\n",
    "images = []\n",
    "labels = []\n",
    "\n",
    "for file in files:\n",
    "\n",
    "    if file.endswith('.jpg'):\n",
    "        splitted_file = file.split('.jpg')\n",
    "        images.append(splitted_file[0])\n",
    "\n",
    "    if file.endswith('.txt'):\n",
    "        splitted_file = file.split('.txt')\n",
    "        labels.append(splitted_file[0])\n",
    "\n",
    "images.sort()\n",
    "labels.sort()\n",
    "\n",
    "for image in images:\n",
    "\n",
    "    if image not in labels:\n",
    "        print(f'{image} dont have a label')\n",
    "\n",
    "for label in labels:\n",
    "\n",
    "    if label not in images:\n",
    "        print(f'{image} dont have a image')"
   ]
  }
 ],
 "metadata": {
  "language_info": {
   "name": "python"
  }
 },
 "nbformat": 4,
 "nbformat_minor": 2
}
