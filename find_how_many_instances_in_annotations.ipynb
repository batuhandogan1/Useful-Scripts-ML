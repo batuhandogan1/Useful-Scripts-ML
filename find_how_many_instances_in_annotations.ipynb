{
 "cells": [
  {
   "cell_type": "code",
   "execution_count": 1,
   "metadata": {},
   "outputs": [],
   "source": [
    "import os"
   ]
  },
  {
   "cell_type": "code",
   "execution_count": 8,
   "metadata": {},
   "outputs": [
    {
     "name": "stdout",
     "output_type": "stream",
     "text": [
      "32acabd8-1c81-43df-ac36-3caf13d50520.txt\n",
      "1\n"
     ]
    }
   ],
   "source": [
    "path = '/home/bdogan/all_files/ekin_files/general_plate_character/General_Plate_Character_Sum_Dataset/'\n",
    "\n",
    "files = os.listdir(path)\n",
    "\n",
    "count = 0\n",
    "\n",
    "for file in files:\n",
    "    if file.endswith('.txt'):\n",
    "\n",
    "        with open(path + file,'r') as f:\n",
    "            for line in f:\n",
    "                if (line.split(' ')[0] == '141'):\n",
    "                    count += 1\n",
    "print(count)"
   ]
  },
  {
   "cell_type": "code",
   "execution_count": 7,
   "metadata": {},
   "outputs": [
    {
     "name": "stdout",
     "output_type": "stream",
     "text": [
      "1\n"
     ]
    }
   ],
   "source": [
    "path = '/home/bdogan/all_files/ekin_files/plate_character_detection/usa_plate_character_detection_stage_3_01.03.2024/dataset/tmp/'\n",
    "\n",
    "files = os.listdir(path)\n",
    "\n",
    "count = 0\n",
    "\n",
    "for file in files:\n",
    "    if file.endswith('.txt'):\n",
    "\n",
    "        with open(path + file,'r') as f:\n",
    "            for line in f:\n",
    "                if (int(line.split(' ')[0]) > 140 ):\n",
    "                    count += 1\n",
    "print(count)"
   ]
  },
  {
   "cell_type": "markdown",
   "metadata": {},
   "source": [
    "* 2 -> 1297\n",
    "* 3 -> 29183\n",
    "* 5 -> 3312\n",
    "* 7 -> 1560"
   ]
  }
 ],
 "metadata": {
  "kernelspec": {
   "display_name": "base",
   "language": "python",
   "name": "python3"
  },
  "language_info": {
   "codemirror_mode": {
    "name": "ipython",
    "version": 3
   },
   "file_extension": ".py",
   "mimetype": "text/x-python",
   "name": "python",
   "nbconvert_exporter": "python",
   "pygments_lexer": "ipython3",
   "version": "3.9.17"
  },
  "orig_nbformat": 4
 },
 "nbformat": 4,
 "nbformat_minor": 2
}
