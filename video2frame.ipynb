{
 "cells": [
  {
   "cell_type": "code",
   "execution_count": 76,
   "metadata": {},
   "outputs": [],
   "source": [
    "import cv2\n",
    "import uuid\n",
    "import os"
   ]
  },
  {
   "cell_type": "code",
   "execution_count": 80,
   "metadata": {},
   "outputs": [],
   "source": [
    "# Video yolunu ver\n",
    "src_path = '/home/bdogan/Desktop/VideosForTL/60/'\n",
    "dst_path = '/home/bdogan/Desktop/VideosForTL/frames_60/'"
   ]
  },
  {
   "cell_type": "code",
   "execution_count": 81,
   "metadata": {},
   "outputs": [],
   "source": [
    "def give_random_name():\n",
    "\n",
    "    filename = str(uuid.uuid4())\n",
    "    arr = filename.split('-')\n",
    "    \n",
    "    return arr[0]"
   ]
  },
  {
   "cell_type": "code",
   "execution_count": 75,
   "metadata": {},
   "outputs": [],
   "source": [
    "#############################################\n",
    "#               Single Video                #\n",
    "#############################################\n",
    "\n",
    "random_name = give_random_name()\n",
    "\n",
    "vidcap = cv2.VideoCapture(src_path)\n",
    "success,image = vidcap.read()\n",
    "count = 0\n",
    "name = 0\n",
    "frame_part = 30 ### Kaç frame de bir alınacak.\n",
    "while success:\n",
    "    # Kaç framede bir kaydedicek countu değiştir\n",
    "    if count % frame_part == 0:\n",
    "        cv2.imwrite(dst_path + f\"{random_name}_frame{name}.jpg\", image)     # save frame as JPEG file      \n",
    "        name += 1\n",
    "\n",
    "    success,image = vidcap.read()\n",
    "    count += 1"
   ]
  },
  {
   "cell_type": "code",
   "execution_count": 84,
   "metadata": {},
   "outputs": [],
   "source": [
    "#############################################\n",
    "#             Multiple Videos               #\n",
    "#############################################\n",
    "\n",
    "videos = os.listdir(src_path)\n",
    "\n",
    "for video in videos:\n",
    "\n",
    "    random_name = give_random_name()\n",
    "\n",
    "    vidcap = cv2.VideoCapture(src_path + video)\n",
    "    success,image = vidcap.read()\n",
    "    count = 0\n",
    "    name = 0\n",
    "    frame_part = 60 ### Kaç frame de bir alınacak.\n",
    "    while success:\n",
    "        # Kaç framede bir kaydedicek countu değiştir\n",
    "        if count % frame_part == 0:\n",
    "            cv2.imwrite(dst_path + f\"{random_name}_frame{name}.jpg\", image)     # save frame as JPEG file      \n",
    "            name += 1\n",
    "\n",
    "        success,image = vidcap.read()\n",
    "        count += 1"
   ]
  },
  {
   "cell_type": "code",
   "execution_count": 72,
   "metadata": {},
   "outputs": [
    {
     "name": "stdout",
     "output_type": "stream",
     "text": [
      "29.97002997002997\n"
     ]
    }
   ],
   "source": [
    "#############################################\n",
    "#               Video kaç fps               #\n",
    "#############################################\n",
    "\n",
    "cam = cv2.VideoCapture('/home/bdogan/Desktop/VideosForTL/videoplayback19.mp4')\n",
    "fps = cam.get(cv2.CAP_PROP_FPS)\n",
    "\n",
    "print(fps)"
   ]
  },
  {
   "cell_type": "code",
   "execution_count": 3,
   "metadata": {},
   "outputs": [
    {
     "name": "stdout",
     "output_type": "stream",
     "text": [
      "2014\n"
     ]
    }
   ],
   "source": [
    "#############################################\n",
    "#           Videoda kaç frame var           #\n",
    "#############################################\n",
    "\n",
    "cap = cv2.VideoCapture(src_path)\n",
    "length = int(cap.get(cv2.CAP_PROP_FRAME_COUNT))\n",
    "print(length)"
   ]
  },
  {
   "cell_type": "code",
   "execution_count": null,
   "metadata": {},
   "outputs": [],
   "source": [
    "import cv2\n",
    "import os\n",
    "\n",
    "video_name = 'video.mp4'\n",
    "path = 'C:/Users/batuhan/VSCode Files/Ekin Technology/yolov7/yolov7/runs/detect/exp2/'\n",
    "images = os.listdir(path)\n",
    "\n",
    "frame = cv2.imread(path + images[0])\n",
    "height, width, layers = frame.shape\n",
    "\n",
    "video = cv2.VideoWriter(video_name, 0, 0.5, (width,height))\n",
    "\n",
    "for image in images:\n",
    "    video.write(cv2.imread(path + image))\n",
    "\n",
    "cv2.destroyAllWindows()\n",
    "video.release()"
   ]
  }
 ],
 "metadata": {
  "kernelspec": {
   "display_name": "base",
   "language": "python",
   "name": "python3"
  },
  "language_info": {
   "codemirror_mode": {
    "name": "ipython",
    "version": 3
   },
   "file_extension": ".py",
   "mimetype": "text/x-python",
   "name": "python",
   "nbconvert_exporter": "python",
   "pygments_lexer": "ipython3",
   "version": "3.9.0"
  },
  "orig_nbformat": 4
 },
 "nbformat": 4,
 "nbformat_minor": 2
}
