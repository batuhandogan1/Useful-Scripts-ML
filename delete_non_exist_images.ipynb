{
 "cells": [
  {
   "cell_type": "code",
   "execution_count": 1,
   "metadata": {},
   "outputs": [],
   "source": [
    "import os"
   ]
  },
  {
   "cell_type": "code",
   "execution_count": null,
   "metadata": {},
   "outputs": [],
   "source": [
    "#############################################\n",
    "#    Source da olmayan image ler silinir    #\n",
    "#############################################\n",
    "\n",
    "# Bunlar baz alınacak imageler\n",
    "src_path = '/home/bdogan/all_files/ssh_files/sum_dataset/'\n",
    "# Bunlar aralarından image silinecek imageler\n",
    "dst_pth = '/home/bdogan/all_files/vscode_files/ekin/yolov8/runs/detect/predict/'\n",
    "\n",
    "src_list = os.listdir(src_path)\n",
    "dst_list = os.listdir(dst_pth)\n",
    "\n",
    "src_list.sort()\n",
    "dst_list.sort()\n",
    "\n",
    "for index in dst_list:\n",
    "    if index not in src_list:\n",
    "        os.remove(dst_pth + index)\n",
    "    else:\n",
    "        pass"
   ]
  }
 ],
 "metadata": {
  "kernelspec": {
   "display_name": "yolov7",
   "language": "python",
   "name": "python3"
  },
  "language_info": {
   "codemirror_mode": {
    "name": "ipython",
    "version": 3
   },
   "file_extension": ".py",
   "mimetype": "text/x-python",
   "name": "python",
   "nbconvert_exporter": "python",
   "pygments_lexer": "ipython3",
   "version": "3.9.0"
  }
 },
 "nbformat": 4,
 "nbformat_minor": 2
}
