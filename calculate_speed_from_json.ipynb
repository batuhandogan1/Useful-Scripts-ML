{
 "cells": [
  {
   "cell_type": "code",
   "execution_count": 14,
   "metadata": {},
   "outputs": [],
   "source": [
    "import os\n",
    "from json import load\n",
    "from json import JSONDecodeError"
   ]
  },
  {
   "cell_type": "code",
   "execution_count": 15,
   "metadata": {},
   "outputs": [
    {
     "name": "stdout",
     "output_type": "stream",
     "text": [
      "0.19844938271604934\n",
      "0.26041749999999997\n",
      "0.25844239631336385\n",
      "0.21658805031446537\n",
      "0.27633864541832653\n",
      "0.15566037735849042\n",
      "0.17910487804878047\n",
      "0.5057753303964756\n",
      "0.23963184079601976\n",
      "0.41354125412541254\n",
      "0.45792283950617285\n",
      "0.16312315270935956\n",
      "0.4580602409638555\n",
      "0.45999242424242404\n"
     ]
    }
   ],
   "source": [
    "path = '/home/bdogan/Downloads/Violation data_03-07-2024_17_14_18.6/'\n",
    "error = 0\n",
    "\n",
    "files = os.listdir(path)\n",
    "\n",
    "for file in files:\n",
    "    jsons_x = os.listdir(path + file)\n",
    "\n",
    "    for json_x in jsons_x:\n",
    "        try:\n",
    "            with open(os.path.join(path, file, json_x)) as f:\n",
    "                data = load(f)\n",
    "            if 'secondarySpeed' in data and 'initialSnapshot' in data and data['secondarySpeed'] is not None and data['initialSnapshot']['speed'] is not None:\n",
    "                error = (data['secondarySpeed'] - data['initialSnapshot']['speed']) / data['initialSnapshot']['speed']\n",
    "                error = abs(error)\n",
    "                if error > 0.15:\n",
    "                    print(error)\n",
    "        except (FileNotFoundError, JSONDecodeError, KeyError) as e:\n",
    "            print(f\"Error reading {json_x}: {e}\")"
   ]
  }
 ],
 "metadata": {
  "kernelspec": {
   "display_name": "yolov7",
   "language": "python",
   "name": "python3"
  },
  "language_info": {
   "codemirror_mode": {
    "name": "ipython",
    "version": 3
   },
   "file_extension": ".py",
   "mimetype": "text/x-python",
   "name": "python",
   "nbconvert_exporter": "python",
   "pygments_lexer": "ipython3",
   "version": "3.9.17"
  }
 },
 "nbformat": 4,
 "nbformat_minor": 2
}
