{
 "cells": [
  {
   "cell_type": "code",
   "execution_count": 1,
   "metadata": {},
   "outputs": [],
   "source": [
    "import os\n",
    "import shutil"
   ]
  },
  {
   "cell_type": "code",
   "execution_count": 6,
   "metadata": {},
   "outputs": [],
   "source": [
    "src_path = '/home/bdogan/all_files/ekin_files/general_plate_character/labels/'\n",
    "dst_path = '/home/bdogan/all_files/ekin_files/general_plate_character/General_Plate_Character_Sum_Dataset/'\n",
    "\n",
    "files = os.listdir(src_path)\n",
    "files.sort()\n",
    "\n",
    "move_count = 100_000\n",
    "\n",
    "for file in files:\n",
    "    if move_count == 0:\n",
    "        break\n",
    "\n",
    "    # shutil.move(src_path + file, dst_path + file)\n",
    "    shutil.copy(src_path + file, dst_path + file)\n",
    "\n",
    "    move_count -= 1\n"
   ]
  },
  {
   "cell_type": "code",
   "execution_count": 6,
   "metadata": {},
   "outputs": [],
   "source": [
    "#################################\n",
    "#     If file endswith jpg      #\n",
    "#################################\n",
    "\n",
    "\n",
    "src_path = '/home/bdogan/all_files/ekin_files/vehicle_type_stage_4/roboflow_export_stage_4/'\n",
    "dst_path = '/home/bdogan/Desktop/test_set/'\n",
    "\n",
    "files = os.listdir(src_path)\n",
    "files.sort()\n",
    "\n",
    "move_count = 10000\n",
    "\n",
    "for file in files:\n",
    "    if file.endswith('.jpg'):\n",
    "        if move_count == 0:\n",
    "            break\n",
    "\n",
    "        shutil.move(src_path + file, dst_path + file)\n",
    "\n",
    "        move_count -= 1\n"
   ]
  },
  {
   "cell_type": "code",
   "execution_count": 4,
   "metadata": {},
   "outputs": [],
   "source": [
    "######################################\n",
    "#     Move image and annotation      #\n",
    "#            Based o txt             #\n",
    "######################################\n",
    "\n",
    "file_path = '/home/bdogan/all_files/ssh_files/sum_dataset_unfiltered/'\n",
    "export_path = '/home/bdogan/all_files/ssh_files/sum_dataset/'\n",
    "\n",
    "files = os.listdir(file_path)\n",
    "\n",
    "for file in files:\n",
    "    if file.endswith('.txt'):\n",
    "        arr = file.split('.txt')\n",
    "        shutil.move(file_path + arr[0] + '.jpg', export_path + arr[0] + '.jpg')\n",
    "        shutil.move(file_path + arr[0] + '.txt', export_path + arr[0] + '.txt')"
   ]
  }
 ],
 "metadata": {
  "kernelspec": {
   "display_name": "yolov7",
   "language": "python",
   "name": "python3"
  },
  "language_info": {
   "codemirror_mode": {
    "name": "ipython",
    "version": 3
   },
   "file_extension": ".py",
   "mimetype": "text/x-python",
   "name": "python",
   "nbconvert_exporter": "python",
   "pygments_lexer": "ipython3",
   "version": "3.9.0"
  }
 },
 "nbformat": 4,
 "nbformat_minor": 2
}
