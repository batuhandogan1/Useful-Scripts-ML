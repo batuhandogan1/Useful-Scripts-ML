{
 "cells": [
  {
   "cell_type": "code",
   "execution_count": 1,
   "metadata": {},
   "outputs": [],
   "source": [
    "import os"
   ]
  },
  {
   "cell_type": "code",
   "execution_count": 8,
   "metadata": {},
   "outputs": [],
   "source": [
    "# replacement strings\n",
    "WINDOWS_LINE_ENDING = b'\\r\\n'\n",
    "UNIX_LINE_ENDING = b'\\n'\n",
    "\n",
    "# relative or absolute file path, e.g.:\n",
    "path = '/home/bdogan/all_files/vscode_files/ekin/yolov7/runs/detect/exp/labels2/'\n",
    "file_path = os.listdir(path)\n",
    "\n",
    "for file in file_path:\n",
    "\n",
    "    with open(path + file, 'rb') as open_file:\n",
    "        content = open_file.read()\n",
    "    \n",
    "    # Windows ➡ Unix\n",
    "    # content = content.replace(WINDOWS_LINE_ENDING, UNIX_LINE_ENDING)\n",
    "\n",
    "    # Unix ➡ Windows\n",
    "    print(content)\n",
    "    content = content.replace(UNIX_LINE_ENDING, WINDOWS_LINE_ENDING)\n",
    "\n",
    "    with open(path + file, 'wb') as open_file:\n",
    "        open_file.write(content)"
   ]
  }
 ],
 "metadata": {
  "kernelspec": {
   "display_name": "base",
   "language": "python",
   "name": "python3"
  },
  "language_info": {
   "codemirror_mode": {
    "name": "ipython",
    "version": 3
   },
   "file_extension": ".py",
   "mimetype": "text/x-python",
   "name": "python",
   "nbconvert_exporter": "python",
   "pygments_lexer": "ipython3",
   "version": "3.11.4"
  },
  "orig_nbformat": 4
 },
 "nbformat": 4,
 "nbformat_minor": 2
}
