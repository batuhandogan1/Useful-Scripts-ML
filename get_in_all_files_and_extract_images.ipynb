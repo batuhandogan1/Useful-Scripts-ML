{
 "cells": [
  {
   "cell_type": "code",
   "execution_count": 1,
   "metadata": {},
   "outputs": [],
   "source": [
    "import os\n",
    "import shutil"
   ]
  },
  {
   "cell_type": "code",
   "execution_count": 2,
   "metadata": {},
   "outputs": [
    {
     "ename": "FileNotFoundError",
     "evalue": "[Errno 2] No such file or directory: '/home/bdogan/Desktop/usa_plate_set/coral_gables_set13/imagescar00614.jpg'",
     "output_type": "error",
     "traceback": [
      "\u001b[0;31m---------------------------------------------------------------------------\u001b[0m",
      "\u001b[0;31mFileNotFoundError\u001b[0m                         Traceback (most recent call last)",
      "\u001b[1;32m/home/bdogan/all_files/vscode_files/useful_scripts/get_in_all_files_and_extract_images.ipynb Cell 2\u001b[0m line \u001b[0;36m1\n\u001b[1;32m      <a href='vscode-notebook-cell:/home/bdogan/all_files/vscode_files/useful_scripts/get_in_all_files_and_extract_images.ipynb#W1sZmlsZQ%3D%3D?line=6'>7</a>\u001b[0m images \u001b[39m=\u001b[39m os\u001b[39m.\u001b[39mlistdir(src_path \u001b[39m+\u001b[39m file \u001b[39m+\u001b[39m \u001b[39m'\u001b[39m\u001b[39m/\u001b[39m\u001b[39m'\u001b[39m \u001b[39m+\u001b[39m \u001b[39m'\u001b[39m\u001b[39mimages\u001b[39m\u001b[39m'\u001b[39m)\n\u001b[1;32m      <a href='vscode-notebook-cell:/home/bdogan/all_files/vscode_files/useful_scripts/get_in_all_files_and_extract_images.ipynb#W1sZmlsZQ%3D%3D?line=8'>9</a>\u001b[0m \u001b[39mfor\u001b[39;00m image \u001b[39min\u001b[39;00m images:\n\u001b[0;32m---> <a href='vscode-notebook-cell:/home/bdogan/all_files/vscode_files/useful_scripts/get_in_all_files_and_extract_images.ipynb#W1sZmlsZQ%3D%3D?line=9'>10</a>\u001b[0m     shutil\u001b[39m.\u001b[39;49mcopy(src_path \u001b[39m+\u001b[39;49m file \u001b[39m+\u001b[39;49m \u001b[39m'\u001b[39;49m\u001b[39m/\u001b[39;49m\u001b[39m'\u001b[39;49m \u001b[39m+\u001b[39;49m \u001b[39m'\u001b[39;49m\u001b[39mimages\u001b[39;49m\u001b[39m'\u001b[39;49m \u001b[39m+\u001b[39;49m image, dst_path)\n\u001b[1;32m     <a href='vscode-notebook-cell:/home/bdogan/all_files/vscode_files/useful_scripts/get_in_all_files_and_extract_images.ipynb#W1sZmlsZQ%3D%3D?line=11'>12</a>\u001b[0m annotations \u001b[39m=\u001b[39m os\u001b[39m.\u001b[39mlistdir(src_path \u001b[39m+\u001b[39m file \u001b[39m+\u001b[39m \u001b[39m'\u001b[39m\u001b[39m/\u001b[39m\u001b[39m'\u001b[39m \u001b[39m+\u001b[39m \u001b[39m'\u001b[39m\u001b[39mannotations\u001b[39m\u001b[39m'\u001b[39m)\n\u001b[1;32m     <a href='vscode-notebook-cell:/home/bdogan/all_files/vscode_files/useful_scripts/get_in_all_files_and_extract_images.ipynb#W1sZmlsZQ%3D%3D?line=13'>14</a>\u001b[0m \u001b[39mfor\u001b[39;00m annotation \u001b[39min\u001b[39;00m annotations:\n",
      "File \u001b[0;32m~/anaconda3/envs/yolov7/lib/python3.9/shutil.py:427\u001b[0m, in \u001b[0;36mcopy\u001b[0;34m(src, dst, follow_symlinks)\u001b[0m\n\u001b[1;32m    425\u001b[0m \u001b[39mif\u001b[39;00m os\u001b[39m.\u001b[39mpath\u001b[39m.\u001b[39misdir(dst):\n\u001b[1;32m    426\u001b[0m     dst \u001b[39m=\u001b[39m os\u001b[39m.\u001b[39mpath\u001b[39m.\u001b[39mjoin(dst, os\u001b[39m.\u001b[39mpath\u001b[39m.\u001b[39mbasename(src))\n\u001b[0;32m--> 427\u001b[0m copyfile(src, dst, follow_symlinks\u001b[39m=\u001b[39;49mfollow_symlinks)\n\u001b[1;32m    428\u001b[0m copymode(src, dst, follow_symlinks\u001b[39m=\u001b[39mfollow_symlinks)\n\u001b[1;32m    429\u001b[0m \u001b[39mreturn\u001b[39;00m dst\n",
      "File \u001b[0;32m~/anaconda3/envs/yolov7/lib/python3.9/shutil.py:264\u001b[0m, in \u001b[0;36mcopyfile\u001b[0;34m(src, dst, follow_symlinks)\u001b[0m\n\u001b[1;32m    262\u001b[0m     os\u001b[39m.\u001b[39msymlink(os\u001b[39m.\u001b[39mreadlink(src), dst)\n\u001b[1;32m    263\u001b[0m \u001b[39melse\u001b[39;00m:\n\u001b[0;32m--> 264\u001b[0m     \u001b[39mwith\u001b[39;00m \u001b[39mopen\u001b[39;49m(src, \u001b[39m'\u001b[39;49m\u001b[39mrb\u001b[39;49m\u001b[39m'\u001b[39;49m) \u001b[39mas\u001b[39;00m fsrc:\n\u001b[1;32m    265\u001b[0m         \u001b[39mtry\u001b[39;00m:\n\u001b[1;32m    266\u001b[0m             \u001b[39mwith\u001b[39;00m \u001b[39mopen\u001b[39m(dst, \u001b[39m'\u001b[39m\u001b[39mwb\u001b[39m\u001b[39m'\u001b[39m) \u001b[39mas\u001b[39;00m fdst:\n\u001b[1;32m    267\u001b[0m                 \u001b[39m# macOS\u001b[39;00m\n",
      "\u001b[0;31mFileNotFoundError\u001b[0m: [Errno 2] No such file or directory: '/home/bdogan/Desktop/usa_plate_set/coral_gables_set13/imagescar00614.jpg'"
     ]
    }
   ],
   "source": [
    "src_path = '/home/bdogan/Desktop/usa_plate_set/'\n",
    "dst_path = '/home/bdogan/Desktop/dataset/'\n",
    "\n",
    "files = os.listdir(src_path)\n",
    "\n",
    "for file in files:\n",
    "    images = os.listdir(src_path + file + '/' + 'images')\n",
    "\n",
    "    for image in images:\n",
    "        shutil.copy(src_path + file + '/' + 'images' + '/' + image, dst_path)\n",
    "\n",
    "    annotations = os.listdir(src_path + file + '/' + 'annotations')\n",
    "\n",
    "    for annotation in annotations:\n",
    "        shutil.copy(src_path + file + '/' + 'annotations' + '/' + annotation, dst_path)"
   ]
  },
  {
   "cell_type": "code",
   "execution_count": 4,
   "metadata": {},
   "outputs": [],
   "source": [
    "src_path = '/home/bdogan/Downloads/temp/'\n",
    "\n",
    "files = os.listdir(src_path)\n",
    "\n",
    "\n",
    "for file in files:\n",
    "\n",
    "    inside_files = os.listdir(src_path + file)\n",
    "\n",
    "    for inside_file in inside_files:\n",
    "\n",
    "        violations = os.listdir(src_path + file + '/' + inside_file)\n",
    "\n",
    "        for violation in violations:\n",
    "\n",
    "            if not violation.endswith('.json'):\n",
    "                os.remove(src_path + file + '/' + inside_file + '/' + violation)"
   ]
  }
 ],
 "metadata": {
  "kernelspec": {
   "display_name": "yolov7",
   "language": "python",
   "name": "python3"
  },
  "language_info": {
   "codemirror_mode": {
    "name": "ipython",
    "version": 3
   },
   "file_extension": ".py",
   "mimetype": "text/x-python",
   "name": "python",
   "nbconvert_exporter": "python",
   "pygments_lexer": "ipython3",
   "version": "3.9.17"
  }
 },
 "nbformat": 4,
 "nbformat_minor": 2
}
